{
 "cells": [
  {
   "cell_type": "code",
   "execution_count": 2,
   "id": "e34d3c9d",
   "metadata": {},
   "outputs": [],
   "source": [
    "from dlisio import dlis"
   ]
  },
  {
   "cell_type": "code",
   "execution_count": 3,
   "id": "26aa3a54",
   "metadata": {},
   "outputs": [],
   "source": [
    "import pandas as pd\n",
    "import matplotlib.pyplot as plt\n",
    "pd.set_option('display.max_rows', 500)"
   ]
  },
  {
   "cell_type": "code",
   "execution_count": 4,
   "id": "6daff62a",
   "metadata": {},
   "outputs": [
    {
     "data": {
      "text/plain": [
       "'0.3.6'"
      ]
     },
     "execution_count": 4,
     "metadata": {},
     "output_type": "execute_result"
    }
   ],
   "source": [
    "import dlisio\n",
    "dlisio.__version__"
   ]
  },
  {
   "cell_type": "markdown",
   "id": "92a9c35a",
   "metadata": {},
   "source": [
    "## Loading DLIS Files"
   ]
  },
  {
   "cell_type": "markdown",
   "id": "0909133e",
   "metadata": {},
   "source": [
    "As we are working with single DLIS File, we can use the following code to load the files. A physical DLIS can contain multiple logical files, therefore, using this syntax allows the first file to be output to f and any subsequent logical files placed into tail."
   ]
  },
  {
   "cell_type": "code",
   "execution_count": 5,
   "id": "6228ac87",
   "metadata": {},
   "outputs": [],
   "source": [
    "f, *tail = dlis.load(r'C:\\Jimmy\\Codeholic\\ongc-wire\\science\\DLIS\\206_05a-_3_DWL_DWL_WIRE_258276498.DLIS')"
   ]
  },
  {
   "cell_type": "markdown",
   "id": "53bc21ef",
   "metadata": {},
   "source": [
    "We can see contents of each , by calling f we can see the o/p as below and tail is blank list so we know that there are no logical files within the DLIS"
   ]
  },
  {
   "cell_type": "code",
   "execution_count": 6,
   "id": "d8d607fe",
   "metadata": {},
   "outputs": [
    {
     "name": "stdout",
     "output_type": "stream",
     "text": [
      "LogicalFile(MSCT_197LTP)\n"
     ]
    }
   ],
   "source": [
    "print(f)"
   ]
  },
  {
   "cell_type": "code",
   "execution_count": 7,
   "id": "14042de5",
   "metadata": {},
   "outputs": [
    {
     "name": "stdout",
     "output_type": "stream",
     "text": [
      "Frame(2000T)\n",
      "Frame(800T)\n"
     ]
    }
   ],
   "source": [
    "f.frames\n",
    "for i in f.frames:\n",
    "    print(i)\n"
   ]
  },
  {
   "cell_type": "code",
   "execution_count": 8,
   "id": "37dd9140",
   "metadata": {},
   "outputs": [
    {
     "data": {
      "text/plain": [
       "Frame(800T)"
      ]
     },
     "execution_count": 8,
     "metadata": {},
     "output_type": "execute_result"
    }
   ],
   "source": [
    "frame1 = f.object('FRAME' , '800T')\n",
    "frame1"
   ]
  },
  {
   "cell_type": "code",
   "execution_count": null,
   "id": "6e0d1600",
   "metadata": {},
   "outputs": [],
   "source": [
    "curves = frame1.curves()\n",
    "depth = curves['TDEP']* 0.00254\n",
    "curves"
   ]
  },
  {
   "cell_type": "code",
   "execution_count": null,
   "id": "2b9b7c58",
   "metadata": {},
   "outputs": [],
   "source": [
    "curves.dtype\n",
    "# for i in curves.dtype:\n",
    "#     print(i)"
   ]
  },
  {
   "cell_type": "code",
   "execution_count": 58,
   "id": "9969aa20",
   "metadata": {},
   "outputs": [
    {
     "data": {
      "text/plain": [
       "dtype('float32')"
      ]
     },
     "execution_count": 58,
     "metadata": {},
     "output_type": "execute_result"
    }
   ],
   "source": [
    "curves.dtype['RHV']"
   ]
  },
  {
   "cell_type": "code",
   "execution_count": 56,
   "id": "1f180246",
   "metadata": {},
   "outputs": [
    {
     "data": {
      "text/plain": [
       "[<matplotlib.lines.Line2D at 0x2b0ce306770>]"
      ]
     },
     "execution_count": 56,
     "metadata": {},
     "output_type": "execute_result"
    },
    {
     "data": {
      "image/png": "[encoded data removed]",
      "text/plain": [
       "<Figure size 432x288 with 1 Axes>"
      ]
     },
     "metadata": {
      "needs_background": "light"
     },
     "output_type": "display_data"
    }
   ],
   "source": [
    "rcpp = curves['RCPP']\n",
    "plt.plot(depth, rcpp)"
   ]
  },
  {
   "cell_type": "code",
   "execution_count": 11,
   "id": "5bc056d9",
   "metadata": {},
   "outputs": [
    {
     "name": "stdout",
     "output_type": "stream",
     "text": [
      "[]\n"
     ]
    }
   ],
   "source": [
    "print(tail)"
   ]
  },
  {
   "cell_type": "code",
   "execution_count": 51,
   "id": "ade73984",
   "metadata": {},
   "outputs": [
    {
     "data": {
      "text/plain": [
       "[Channel(TDEP),\n",
       " Channel(TDEP),\n",
       " Channel(TDEP),\n",
       " Channel(TDEP),\n",
       " Channel(TDEP),\n",
       " Channel(TDEP),\n",
       " Channel(TIME),\n",
       " Channel(TIME),\n",
       " Channel(TIME),\n",
       " Channel(TIME),\n",
       " Channel(TIME),\n",
       " Channel(TIME),\n",
       " Channel(BS),\n",
       " Channel(CS),\n",
       " Channel(CVEL),\n",
       " Channel(TENS),\n",
       " Channel(ETIM),\n",
       " Channel(ETIM),\n",
       " Channel(MARK),\n",
       " Channel(LMVL_DL),\n",
       " Channel(UMVL_DL),\n",
       " Channel(RCMD_DL),\n",
       " Channel(CMDV_DL),\n",
       " Channel(RCPP_DL),\n",
       " Channel(CMPP_DL),\n",
       " Channel(RCMP_DL),\n",
       " Channel(CMPR_DL),\n",
       " Channel(DCFL_DL),\n",
       " Channel(DFS_DL),\n",
       " Channel(DZER_DL),\n",
       " Channel(RHMD_DL),\n",
       " Channel(HMDV_DL),\n",
       " Channel(RHPP_DL),\n",
       " Channel(HPPR_DL),\n",
       " Channel(RHV_DL),\n",
       " Channel(HV_DL),\n",
       " Channel(RRPP_DL),\n",
       " Channel(RPPV_DL),\n",
       " Channel(RLSW_DL),\n",
       " Channel(LSWI_DL),\n",
       " Channel(RSCU_DL),\n",
       " Channel(SCUR_DL),\n",
       " Channel(SMSC_DL),\n",
       " Channel(RSTS_DL),\n",
       " Channel(SSTA_DL),\n",
       " Channel(UCFL_DL),\n",
       " Channel(CARC_DL),\n",
       " Channel(CMCU_DL),\n",
       " Channel(HMCU_DL),\n",
       " Channel(CMLP_DL),\n",
       " Channel(ECGR),\n",
       " Channel(GHD),\n",
       " Channel(BHRM),\n",
       " Channel(BHPR),\n",
       " Channel(GTEM),\n",
       " Channel(TEMP),\n",
       " Channel(EHGR),\n",
       " Channel(IDWD),\n",
       " Channel(SCD),\n",
       " Channel(SCDV),\n",
       " Channel(RGR),\n",
       " Channel(GR),\n",
       " Channel(TENS_SL),\n",
       " Channel(DEPT_SL),\n",
       " Channel(LMVL),\n",
       " Channel(UMVL),\n",
       " Channel(CFLA),\n",
       " Channel(OCD),\n",
       " Channel(RCMD),\n",
       " Channel(RCPP),\n",
       " Channel(RCMP),\n",
       " Channel(CMRT),\n",
       " Channel(RCNU),\n",
       " Channel(DCFL),\n",
       " Channel(DFS),\n",
       " Channel(DZER),\n",
       " Channel(RHMD),\n",
       " Channel(HMRT),\n",
       " Channel(RHPP),\n",
       " Channel(RHV),\n",
       " Channel(RRPP),\n",
       " Channel(RLSW),\n",
       " Channel(MNU),\n",
       " Channel(S1CY),\n",
       " Channel(S2CY),\n",
       " Channel(RSCU),\n",
       " Channel(SMSC),\n",
       " Channel(RSTS),\n",
       " Channel(UCFL),\n",
       " Channel(CARC),\n",
       " Channel(CMCU),\n",
       " Channel(HMCU),\n",
       " Channel(CMDV),\n",
       " Channel(CMPP),\n",
       " Channel(CMPR),\n",
       " Channel(CNU),\n",
       " Channel(HMDV),\n",
       " Channel(HPPR),\n",
       " Channel(HV),\n",
       " Channel(RPPV),\n",
       " Channel(LSWI),\n",
       " Channel(SCUR),\n",
       " Channel(SSTA),\n",
       " Channel(CMLP)]"
      ]
     },
     "execution_count": 51,
     "metadata": {},
     "output_type": "execute_result"
    }
   ],
   "source": [
    "# view methods on f\n",
    "f.channels                 "
   ]
  },
  {
   "cell_type": "markdown",
   "id": "3dc47656",
   "metadata": {},
   "source": [
    "To view the high level contents we can use .describe(). This will return information abt the no of frames, channels and objects within the file.We can see 2 frames and 104 channels (logging curves)."
   ]
  },
  {
   "cell_type": "code",
   "execution_count": 13,
   "id": "8ae4e4f1",
   "metadata": {},
   "outputs": [
    {
     "data": {
      "text/plain": [
       "------------\n",
       "Logical File\n",
       "------------\n",
       "Description : LogicalFile(MSCT_197LTP)\n",
       "Frames      : 2\n",
       "Channels    : 104\n",
       "\n",
       "Known objects\n",
       "--\n",
       "CALIBRATION-COEFFICIENT : 24\n",
       "CALIBRATION-MEASUREMENT : 6\n",
       "ORIGIN                  : 1\n",
       "PROCESS                 : 1\n",
       "CHANNEL                 : 104\n",
       "FRAME                   : 2\n",
       "FILE-HEADER             : 1\n",
       "CALIBRATION             : 27\n",
       "PARAMETER               : 226\n",
       "TOOL                    : 2\n",
       "EQUIPMENT               : 14\n",
       "\n",
       "Unknown objects\n",
       "--\n",
       "440-OP-CORE_TABLES           : 250\n",
       "440-PRESENTATION-DESCRIPTION : 1\n",
       "440-OP-CHANNEL               : 104\n",
       "440-OP-CORE_REPORT_FORMAT    : 17\n",
       "440-CHANNEL                  : 96\n"
      ]
     },
     "execution_count": 13,
     "metadata": {},
     "output_type": "execute_result"
    }
   ],
   "source": [
    "f.describe()"
   ]
  },
  {
   "cell_type": "markdown",
   "id": "20fe1ecf",
   "metadata": {},
   "source": [
    "## Viewing the file's Metadata"
   ]
  },
  {
   "cell_type": "markdown",
   "id": "d0d58f36",
   "metadata": {},
   "source": [
    "Data Origin : Source of the data"
   ]
  },
  {
   "cell_type": "code",
   "execution_count": 14,
   "id": "46392e04",
   "metadata": {},
   "outputs": [],
   "source": [
    "origin , *origin_tail = f.origins"
   ]
  },
  {
   "cell_type": "code",
   "execution_count": 15,
   "id": "4e46ec2f",
   "metadata": {},
   "outputs": [
    {
     "data": {
      "text/plain": [
       "Origin(DLIS_DEFINING_ORIGIN)"
      ]
     },
     "execution_count": 15,
     "metadata": {},
     "output_type": "execute_result"
    }
   ],
   "source": [
    "origin"
   ]
  },
  {
   "cell_type": "code",
   "execution_count": 16,
   "id": "1c5a783a",
   "metadata": {},
   "outputs": [
    {
     "data": {
      "text/plain": [
       "[]"
      ]
     },
     "execution_count": 16,
     "metadata": {},
     "output_type": "execute_result"
    }
   ],
   "source": [
    "origin_tail"
   ]
  },
  {
   "cell_type": "code",
   "execution_count": 17,
   "id": "6db2dc6b",
   "metadata": {},
   "outputs": [
    {
     "data": {
      "text/plain": [
       "------\n",
       "Origin\n",
       "------\n",
       "name   : DLIS_DEFINING_ORIGIN\n",
       "origin : 2\n",
       "copy   : 0\n",
       "\n",
       "Logical file ID          : MSCT_197LTP\n",
       "File set name and number : FAROE_PETROLEUM/206_05A-3 / 41\n",
       "File number and type     : 167 / STATION LOG\n",
       "\n",
       "Field                   : Fulla\n",
       "Well (id/name)          :  / 206/05a-3\n",
       "Produced by (code/name) : 440 / Schlumberger\n",
       "Produced for            : Faroe Petroleum\n",
       "Order number            : BSAX-00003\n",
       "Run number              : 1\n",
       "Descent number          : -1\n",
       "Created                 : 2011-08-20 22:48:50\n",
       "\n",
       "Created by              : OP, (version: 19C0-187)\n",
       "Other programs/services : MSCT: Mechanical Sidewall Coring Tool SGTP:\n",
       "                          Scintillation Gamma-Ray - P     LEHQT: Logging\n",
       "                          Equipment Head - QT    WELLCAD: WellCAD file generator\n"
      ]
     },
     "execution_count": 17,
     "metadata": {},
     "output_type": "execute_result"
    }
   ],
   "source": [
    "origin.describe()"
   ]
  },
  {
   "cell_type": "markdown",
   "id": "76d4e437",
   "metadata": {},
   "source": [
    "## Frames"
   ]
  },
  {
   "cell_type": "markdown",
   "id": "72e1c193",
   "metadata": {},
   "source": [
    "Frames within a DLIS file can represent logging passes or different stages of data such as raw well log measurements to petrophysical interpretations or processed data. Each frame has a number of properties "
   ]
  },
  {
   "cell_type": "code",
   "execution_count": 18,
   "id": "6d56779a",
   "metadata": {},
   "outputs": [
    {
     "data": {
      "text/plain": [
       "[Frame(2000T), Frame(800T)]"
      ]
     },
     "execution_count": 18,
     "metadata": {},
     "output_type": "execute_result"
    }
   ],
   "source": [
    "f.frames"
   ]
  },
  {
   "cell_type": "code",
   "execution_count": 19,
   "id": "b08e0071",
   "metadata": {},
   "outputs": [
    {
     "name": "stdout",
     "output_type": "stream",
     "text": [
      "Frame Name: \t\t 2000T\n",
      "Index Type: \t\t TIME\n",
      "Depth Interval: \t 33354518 - 35194520 ms\n",
      "Depth Spacing: \t\t 2000 ms\n",
      "Direction: \t\t INCREASING\n",
      "Num of Channels: \t 4\n",
      "Channel Names: \t [Channel(TIME), Channel(TDEP), Channel(TENS_SL), Channel(DEPT_SL)]\n",
      "\n",
      "\n",
      "\n",
      "Frame Name: \t\t 800T\n",
      "Index Type: \t\t TIME\n",
      "Depth Interval: \t 33354518 - 35194520 ms\n",
      "Depth Spacing: \t\t 800 ms\n",
      "Direction: \t\t INCREASING\n",
      "Num of Channels: \t 43\n",
      "Channel Names: \t [Channel(TIME), Channel(TDEP), Channel(ETIM), Channel(LMVL), Channel(UMVL), Channel(CFLA), Channel(OCD), Channel(RCMD), Channel(RCPP), Channel(CMRT), Channel(RCNU), Channel(DCFL), Channel(DFS), Channel(DZER), Channel(RHMD), Channel(HMRT), Channel(RHV), Channel(RLSW), Channel(MNU), Channel(S1CY), Channel(S2CY), Channel(RSCU), Channel(RSTS), Channel(UCFL), Channel(CARC), Channel(CMDV), Channel(CMPP), Channel(CNU), Channel(HMDV), Channel(HV), Channel(LSWI), Channel(SCUR), Channel(SSTA), Channel(RCMP), Channel(RHPP), Channel(RRPP), Channel(CMPR), Channel(HPPR), Channel(RPPV), Channel(SMSC), Channel(CMCU), Channel(HMCU), Channel(CMLP)]\n",
      "\n",
      "\n",
      "\n"
     ]
    }
   ],
   "source": [
    "#loop over each frame within the file\n",
    "for frame in f.frames:\n",
    "\n",
    "        # Search through the channels for the index aqnd obtain the units\n",
    "        for channel in frame.channels:\n",
    "            if channel.name == frame.index:\n",
    "                depth_units = channel.units\n",
    "                \n",
    "        print(f'Frame Name: \\t\\t {frame.name}')\n",
    "        print(f'Index Type: \\t\\t {frame.index_type}')\n",
    "        print(f'Depth Interval: \\t {frame.index_min} - {frame.index_max} {depth_units}')\n",
    "        print(f'Depth Spacing: \\t\\t {frame.spacing} {depth_units}')\n",
    "        print(f'Direction: \\t\\t {frame.direction}')\n",
    "        print(f'Num of Channels: \\t {len(frame.channels)}')\n",
    "        print(f'Channel Names: \\t {str(frame.channels)}')\n",
    "        print('\\n\\n')"
   ]
  },
  {
   "cell_type": "markdown",
   "id": "75a6c3c6",
   "metadata": {},
   "source": [
    "### Parameters within the DLIS file"
   ]
  },
  {
   "cell_type": "code",
   "execution_count": 20,
   "id": "a562a553",
   "metadata": {},
   "outputs": [],
   "source": [
    "def summary_dataframe(object, **kwargs):\n",
    "    #create an empty dataframe\n",
    "    df = pd.DataFrame()\n",
    "    \n",
    "    #Iterate over each of the keyword arguments\n",
    "    for i, (key,value) in enumerate(kwargs.items()):\n",
    "        list_of_values =[]\n",
    "        \n",
    "        #Iterate over each parameter and get the relevant key\n",
    "        for items in object:\n",
    "            #Account for any missing values.\n",
    "            \n",
    "            try:\n",
    "                x = getattr(items, key)\n",
    "                list_of_values.append(x)\n",
    "            except:\n",
    "                list_of_values.append('')\n",
    "                continue\n",
    "        \n",
    "        #Add a new column to our dataframe\n",
    "        df[value] = list_of_values\n",
    "        \n",
    "    # Sort the dataframe  by column 1 and return it\n",
    "    return df.sort_values(df.columns[0])\n",
    "\n",
    "\n",
    "        \n",
    "        \n",
    "    "
   ]
  },
  {
   "cell_type": "markdown",
   "id": "135e7a1f",
   "metadata": {},
   "source": [
    "The parameters can be accessed by calling upon f.parameters. To access the parameters we can use the attributes name, long_name and values and pass these into summary function\n",
    "\n",
    "This returns a long table of each of the parameter. The example below is a small section of that table. From it we can see parameters such as bottom log interval, borehole salinity and bottom hole temperature."
   ]
  },
  {
   "cell_type": "code",
   "execution_count": null,
   "id": "2cd36c40",
   "metadata": {},
   "outputs": [],
   "source": [
    "param_df = summary_dataframe(f.parameters, name ='Name', long_name = 'Long Name', values = 'Values')\n",
    "\n",
    "\n",
    "# Hiding people's name that maybe in parameters.\n",
    "# These 2 lines can be commented out to show them\n",
    "mask = param_df['Name'].isin(['R8', 'RR1','WITN','ENGI'])\n",
    "param_df = param_df[~mask]\n",
    "\n",
    "param_df"
   ]
  },
  {
   "cell_type": "markdown",
   "id": "5d02229d",
   "metadata": {},
   "source": [
    "## Channels"
   ]
  },
  {
   "cell_type": "markdown",
   "id": "47cf062a",
   "metadata": {},
   "source": [
    "The channels within a frame are the individual curves or arrays. To view a quick summary of these, we can pass in a number of attributes to the summary_dataframe() method."
   ]
  },
  {
   "cell_type": "code",
   "execution_count": null,
   "id": "a647b6f7",
   "metadata": {},
   "outputs": [],
   "source": [
    "channels = summary_dataframe(f.channels , name= 'Name', long_name= 'Long Name', values = 'Values')\n",
    "channels"
   ]
  },
  {
   "cell_type": "markdown",
   "id": "7176197c",
   "metadata": {},
   "source": [
    "## Tools"
   ]
  },
  {
   "cell_type": "markdown",
   "id": "14aa1e85",
   "metadata": {},
   "source": [
    "The tools object within the DLIS file contains information relating to the tools that were used to acquire the data. We can get a summary of the tools available by calling upon the summary_dataframe method."
   ]
  },
  {
   "cell_type": "code",
   "execution_count": null,
   "id": "25b19755",
   "metadata": {},
   "outputs": [],
   "source": [
    "tools = summary_dataframe(f.tools, name= 'Name', description = 'Description')\n",
    "tools"
   ]
  },
  {
   "cell_type": "code",
   "execution_count": null,
   "id": "dc61be58",
   "metadata": {},
   "outputs": [],
   "source": [
    "f.tools"
   ]
  },
  {
   "cell_type": "markdown",
   "id": "47f74008",
   "metadata": {},
   "source": [
    "As we are looking to plot accoustic waveform data, we can look at the parameters for the MSCT tool. First, we need to grab the object from the dlis and then pass it into the summary_dataframe function\n",
    "\n",
    "From the returned table, we can view each of the parameters that relate to the tool and the processing of the data"
   ]
  },
  {
   "cell_type": "code",
   "execution_count": 25,
   "id": "f9c901d5",
   "metadata": {},
   "outputs": [],
   "source": [
    "msct = f.object('TOOL', 'MSCT')\n",
    "msct_params = summary_dataframe(msct.parameters, name = 'Name', long_name= 'Long Name', value = 'Values')"
   ]
  },
  {
   "cell_type": "code",
   "execution_count": null,
   "id": "4794a89f",
   "metadata": {},
   "outputs": [],
   "source": [
    "msct_params"
   ]
  },
  {
   "cell_type": "markdown",
   "id": "38f92aa0",
   "metadata": {},
   "source": [
    "## Working With Data Objects"
   ]
  },
  {
   "cell_type": "markdown",
   "id": "fe310275",
   "metadata": {},
   "source": [
    "Now that some of the meta data has been explored, we can now attempt to access the data stored within the file."
   ]
  },
  {
   "cell_type": "code",
   "execution_count": 27,
   "id": "880a3c21",
   "metadata": {},
   "outputs": [],
   "source": [
    "frame1 = f.object('FRAME' , '800T')"
   ]
  },
  {
   "cell_type": "code",
   "execution_count": 28,
   "id": "77f3ae14",
   "metadata": {},
   "outputs": [
    {
     "data": {
      "text/plain": [
       "Frame(800T)"
      ]
     },
     "execution_count": 28,
     "metadata": {},
     "output_type": "execute_result"
    }
   ],
   "source": [
    "frame1"
   ]
  },
  {
   "cell_type": "markdown",
   "id": "0f7cf02b",
   "metadata": {},
   "source": [
    "We can also directly access the channels for a specific curve. However, this can cause confusion when working with frames containing channels/curves with the same name."
   ]
  },
  {
   "cell_type": "code",
   "execution_count": 29,
   "id": "e3be0346",
   "metadata": {},
   "outputs": [
    {
     "name": "stdout",
     "output_type": "stream",
     "text": [
      "Name: \t\tBHPR\n",
      "Long Name: \t\tBorehole Pressure\n",
      "Units: \t\tpsi\n",
      "Dimension: \t\t[1]\n"
     ]
    }
   ],
   "source": [
    "bhpr = f.object('CHANNEL', 'BHPR')\n",
    "\n",
    "#Print out the properties of the channel/curve\n",
    "\n",
    "print(f'Name: \\t\\t{bhpr.name}')\n",
    "print(f'Long Name: \\t\\t{bhpr.long_name}')\n",
    "print(f'Units: \\t\\t{bhpr.units}')\n",
    "print(f'Dimension: \\t\\t{bhpr.dimension}')"
   ]
  },
  {
   "cell_type": "code",
   "execution_count": 30,
   "id": "a04e3f94",
   "metadata": {},
   "outputs": [
    {
     "name": "stdout",
     "output_type": "stream",
     "text": [
      "Name: \t\tBS\n",
      "Long Name: \t\tBit Size\n",
      "Units: \t\tin\n",
      "Dimension: \t\t[1]\n"
     ]
    }
   ],
   "source": [
    "bs = f.object('CHANNEL', 'BS')\n",
    "\n",
    "#Print out the properties of the channel/curve\n",
    "\n",
    "print(f'Name: \\t\\t{bs.name}')\n",
    "print(f'Long Name: \\t\\t{bs.long_name}')\n",
    "print(f'Units: \\t\\t{bs.units}')\n",
    "print(f'Dimension: \\t\\t{bs.dimension}')"
   ]
  },
  {
   "cell_type": "code",
   "execution_count": 31,
   "id": "4bd83c76",
   "metadata": {},
   "outputs": [
    {
     "name": "stdout",
     "output_type": "stream",
     "text": [
      "Name: \t\tHMDV\n",
      "Long Name: \t\tHydraulic Motor Downhole Voltage\n",
      "Units: \t\tV\n",
      "Dimension: \t\t[1]\n"
     ]
    }
   ],
   "source": [
    "hmdv = f.object('CHANNEL', 'HMDV')\n",
    "\n",
    "#Print out the properties of the channel/curve\n",
    "\n",
    "print(f'Name: \\t\\t{hmdv.name}')\n",
    "print(f'Long Name: \\t\\t{hmdv.long_name}')\n",
    "print(f'Units: \\t\\t{hmdv.units}')\n",
    "print(f'Dimension: \\t\\t{hmdv.dimension}')"
   ]
  },
  {
   "cell_type": "markdown",
   "id": "7740baf7",
   "metadata": {},
   "source": [
    "## Plotting Data"
   ]
  },
  {
   "cell_type": "code",
   "execution_count": 32,
   "id": "e55dc59c",
   "metadata": {},
   "outputs": [],
   "source": [
    "curves = frame1.curves()"
   ]
  },
  {
   "cell_type": "code",
   "execution_count": 33,
   "id": "10e68aa4",
   "metadata": {},
   "outputs": [
    {
     "data": {
      "text/plain": [
       "[<matplotlib.lines.Line2D at 0x2b0cdba0ee0>]"
      ]
     },
     "execution_count": 33,
     "metadata": {},
     "output_type": "execute_result"
    },
    {
     "data": {
      "image/png": "[encoded data removed]",
      "text/plain": [
       "<Figure size 432x288 with 1 Axes>"
      ]
     },
     "metadata": {
      "needs_background": "light"
     },
     "output_type": "display_data"
    }
   ],
   "source": [
    "curves\n",
    "rcpp = curves['RCPP']\n",
    "plt.plot(depth, rcpp)"
   ]
  },
  {
   "cell_type": "code",
   "execution_count": 34,
   "id": "2c3c876d",
   "metadata": {},
   "outputs": [
    {
     "name": "stdout",
     "output_type": "stream",
     "text": [
      "2165.619140625 - 2268.9921875\n"
     ]
    }
   ],
   "source": [
    "depth = curves['TDEP']* 0.00254\n",
    "rcpp = curves['RCPP']\n",
    "rhmd = curves['RHMD']\n",
    "\n",
    "print(f'{depth.min()} - {depth.max()}')"
   ]
  },
  {
   "cell_type": "code",
   "execution_count": 35,
   "id": "54d4a8aa",
   "metadata": {},
   "outputs": [],
   "source": [
    "rppv = curves['RPPV']"
   ]
  },
  {
   "cell_type": "code",
   "execution_count": 36,
   "id": "02ebdb3d",
   "metadata": {},
   "outputs": [
    {
     "ename": "ValueError",
     "evalue": "no field of name BS",
     "output_type": "error",
     "traceback": [
      "\u001b[1;31m---------------------------------------------------------------------------\u001b[0m",
      "\u001b[1;31mValueError\u001b[0m                                Traceback (most recent call last)",
      "\u001b[1;32mc:\\Jimmy\\Codeholic\\ongc-wire\\science\\DLIS\\DLIS File Loading using dlisio.ipynb Cell 54\u001b[0m in \u001b[0;36m<cell line: 1>\u001b[1;34m()\u001b[0m\n\u001b[1;32m----> <a href='vscode-notebook-cell:/c%3A/Jimmy/Codeholic/ongc-wire/science/DLIS/DLIS%20File%20Loading%20using%20dlisio.ipynb#ch0000053?line=0'>1</a>\u001b[0m bs \u001b[39m=\u001b[39m curves[\u001b[39m'\u001b[39;49m\u001b[39mBS\u001b[39;49m\u001b[39m'\u001b[39;49m]\n",
      "\u001b[1;31mValueError\u001b[0m: no field of name BS"
     ]
    }
   ],
   "source": [
    "bs = curves['BS']"
   ]
  },
  {
   "cell_type": "code",
   "execution_count": null,
   "id": "5446b410",
   "metadata": {},
   "outputs": [
    {
     "data": {
      "text/plain": [
       "array([ 325.70068,  325.70068,  325.70068, ..., 1681.3625 , 1689.337  ,\n",
       "       1689.337  ], dtype=float32)"
      ]
     },
     "execution_count": 114,
     "metadata": {},
     "output_type": "execute_result"
    }
   ],
   "source": [
    "rppv"
   ]
  },
  {
   "cell_type": "code",
   "execution_count": null,
   "id": "f5180dcb",
   "metadata": {},
   "outputs": [],
   "source": [
    "rcpp"
   ]
  },
  {
   "cell_type": "code",
   "execution_count": null,
   "id": "27a17c54",
   "metadata": {},
   "outputs": [],
   "source": [
    "rhmd"
   ]
  },
  {
   "cell_type": "code",
   "execution_count": null,
   "id": "4ca7fa5d",
   "metadata": {},
   "outputs": [
    {
     "data": {
      "text/plain": [
       "(40.0, 240.0)"
      ]
     },
     "execution_count": 117,
     "metadata": {},
     "output_type": "execute_result"
    },
    {
     "data": {
      "image/png": "[encoded data removed]",
      "text/plain": [
       "<Figure size 432x288 with 1 Axes>"
      ]
     },
     "metadata": {
      "needs_background": "light"
     },
     "output_type": "display_data"
    }
   ],
   "source": [
    "plt.plot(depth, rppv)\n",
    "plt.plot(depth,rhmd)\n",
    "plt.ylim(40, 240)"
   ]
  },
  {
   "cell_type": "code",
   "execution_count": null,
   "id": "02058642",
   "metadata": {},
   "outputs": [
    {
     "data": {
      "text/plain": [
       "[<matplotlib.lines.Line2D at 0x22967430490>]"
      ]
     },
     "execution_count": 118,
     "metadata": {},
     "output_type": "execute_result"
    },
    {
     "data": {
      "image/png": "[encoded data removed]",
      "text/plain": [
       "<Figure size 432x288 with 1 Axes>"
      ]
     },
     "metadata": {
      "needs_background": "light"
     },
     "output_type": "display_data"
    }
   ],
   "source": [
    "plt.plot(depth, rppv)"
   ]
  },
  {
   "cell_type": "code",
   "execution_count": null,
   "id": "116f3cc2",
   "metadata": {},
   "outputs": [
    {
     "data": {
      "text/plain": [
       "[<matplotlib.lines.Line2D at 0x229691c26b0>]"
      ]
     },
     "execution_count": 119,
     "metadata": {},
     "output_type": "execute_result"
    },
    {
     "data": {
      "image/png": "[encoded data removed]",
      "text/plain": [
       "<Figure size 432x288 with 1 Axes>"
      ]
     },
     "metadata": {
      "needs_background": "light"
     },
     "output_type": "display_data"
    }
   ],
   "source": [
    "plt.plot( depth)"
   ]
  },
  {
   "cell_type": "code",
   "execution_count": null,
   "id": "45e2748d",
   "metadata": {},
   "outputs": [
    {
     "data": {
      "text/plain": [
       "[<matplotlib.lines.Line2D at 0x22969110d30>]"
      ]
     },
     "execution_count": 120,
     "metadata": {},
     "output_type": "execute_result"
    },
    {
     "data": {
      "image/png": "[encoded data removed]",
      "text/plain": [
       "<Figure size 432x288 with 1 Axes>"
      ]
     },
     "metadata": {
      "needs_background": "light"
     },
     "output_type": "display_data"
    }
   ],
   "source": [
    "plt.plot(depth,rcpp)"
   ]
  },
  {
   "cell_type": "code",
   "execution_count": null,
   "id": "07c2d4ff",
   "metadata": {},
   "outputs": [
    {
     "data": {
      "text/plain": [
       "[<matplotlib.lines.Line2D at 0x2296906ad70>]"
      ]
     },
     "execution_count": 121,
     "metadata": {},
     "output_type": "execute_result"
    },
    {
     "data": {
      "image/png": "[encoded data removed]",
      "text/plain": [
       "<Figure size 432x288 with 1 Axes>"
      ]
     },
     "metadata": {
      "needs_background": "light"
     },
     "output_type": "display_data"
    }
   ],
   "source": [
    "plt.plot(rcpp)"
   ]
  },
  {
   "cell_type": "code",
   "execution_count": null,
   "id": "75a04952",
   "metadata": {},
   "outputs": [
    {
     "data": {
      "text/plain": [
       "[<matplotlib.lines.Line2D at 0x229691a1750>]"
      ]
     },
     "execution_count": 122,
     "metadata": {},
     "output_type": "execute_result"
    },
    {
     "data": {
      "image/png": "[encoded data removed]",
      "text/plain": [
       "<Figure size 432x288 with 1 Axes>"
      ]
     },
     "metadata": {
      "needs_background": "light"
     },
     "output_type": "display_data"
    }
   ],
   "source": [
    "plt.plot(rppv)"
   ]
  },
  {
   "cell_type": "code",
   "execution_count": null,
   "id": "abd5530c",
   "metadata": {},
   "outputs": [
    {
     "data": {
      "text/plain": [
       "[<matplotlib.lines.Line2D at 0x22969a0d4b0>]"
      ]
     },
     "execution_count": 123,
     "metadata": {},
     "output_type": "execute_result"
    },
    {
     "data": {
      "image/png": "[encoded data removed]",
      "text/plain": [
       "<Figure size 432x288 with 1 Axes>"
      ]
     },
     "metadata": {
      "needs_background": "light"
     },
     "output_type": "display_data"
    }
   ],
   "source": [
    "plt.plot(rhmd)"
   ]
  },
  {
   "cell_type": "code",
   "execution_count": null,
   "id": "aa90268b",
   "metadata": {},
   "outputs": [
    {
     "data": {
      "text/plain": [
       "[<matplotlib.lines.Line2D at 0x22968904850>]"
      ]
     },
     "execution_count": 124,
     "metadata": {},
     "output_type": "execute_result"
    },
    {
     "data": {
      "image/png": "[encoded data removed]",
      "text/plain": [
       "<Figure size 432x288 with 1 Axes>"
      ]
     },
     "metadata": {
      "needs_background": "light"
     },
     "output_type": "display_data"
    }
   ],
   "source": [
    "plt.plot(depth, rhmd)"
   ]
  },
  {
   "cell_type": "code",
   "execution_count": null,
   "id": "68e5c55e",
   "metadata": {},
   "outputs": [],
   "source": []
  }
 ],
 "metadata": {
  "kernelspec": {
   "display_name": "Python 3.10.5 ('env': venv)",
   "language": "python",
   "name": "python3"
  },
  "language_info": {
   "codemirror_mode": {
    "name": "ipython",
    "version": 3
   },
   "file_extension": ".py",
   "mimetype": "text/x-python",
   "name": "python",
   "nbconvert_exporter": "python",
   "pygments_lexer": "ipython3",
   "version": "3.10.5"
  },
  "vscode": {
   "interpreter": {
    "hash": "e6d3db9c81b0adc76ea4b18ae0522b4ab00d310ea7b2665e659c38d613b2381d"
   }
  }
 },
 "nbformat": 4,
 "nbformat_minor": 5
}
