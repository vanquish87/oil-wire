{
 "cells": [
  {
   "cell_type": "code",
   "execution_count": 1,
   "id": "e34d3c9d",
   "metadata": {},
   "outputs": [],
   "source": [
    "from dlisio import dlis"
   ]
  },
  {
   "cell_type": "code",
   "execution_count": 2,
   "id": "26aa3a54",
   "metadata": {},
   "outputs": [],
   "source": [
    "import pandas as pd\n",
    "import matplotlib.pyplot as plt\n",
    "pd.set_option('display.max_rows', 500)"
   ]
  },
  {
   "cell_type": "code",
   "execution_count": 3,
   "id": "6daff62a",
   "metadata": {},
   "outputs": [
    {
     "data": {
      "text/plain": [
       "'0.3.6'"
      ]
     },
     "execution_count": 3,
     "metadata": {},
     "output_type": "execute_result"
    }
   ],
   "source": [
    "import dlisio\n",
    "dlisio.__version__"
   ]
  },
  {
   "cell_type": "markdown",
   "id": "92a9c35a",
   "metadata": {},
   "source": [
    "## Loading DLIS Files"
   ]
  },
  {
   "cell_type": "markdown",
   "id": "0909133e",
   "metadata": {},
   "source": [
    "As we are working with single DLIS File, we can use the following code to load the files. A physical DLIS can contain multiple logical files, therefore, using this syntax allows the first file to be output to f and any subsequent logical files placed into tail."
   ]
  },
  {
   "cell_type": "code",
   "execution_count": 4,
   "id": "6228ac87",
   "metadata": {},
   "outputs": [],
   "source": [
    "f, *tail = dlis.load(r'C:\\Jimmy\\Codeholic\\ongc-wire\\science\\DLIS\\206_05a-_3_DWL_DWL_WIRE_258276498.DLIS')"
   ]
  },
  {
   "cell_type": "markdown",
   "id": "53bc21ef",
   "metadata": {},
   "source": [
    "We can see contents of each , by calling f we can see the o/p as below and tail is blank list so we know that there are no logical files within the DLIS"
   ]
  },
  {
   "cell_type": "code",
   "execution_count": 5,
   "id": "d8d607fe",
   "metadata": {},
   "outputs": [
    {
     "name": "stdout",
     "output_type": "stream",
     "text": [
      "LogicalFile(MSCT_197LTP)\n"
     ]
    }
   ],
   "source": [
    "print(f)"
   ]
  },
  {
   "cell_type": "code",
   "execution_count": 35,
   "id": "14042de5",
   "metadata": {},
   "outputs": [
    {
     "name": "stdout",
     "output_type": "stream",
     "text": [
      "Frame(2000T)\n",
      "Frame(800T)\n"
     ]
    }
   ],
   "source": [
    "f.frames\n",
    "for i in f.frames:\n",
    "    print(i)\n"
   ]
  },
  {
   "cell_type": "code",
   "execution_count": 39,
   "id": "37dd9140",
   "metadata": {},
   "outputs": [
    {
     "data": {
      "text/plain": [
       "Frame(800T)"
      ]
     },
     "execution_count": 39,
     "metadata": {},
     "output_type": "execute_result"
    }
   ],
   "source": [
    "frame1 = f.object('FRAME' , '800T')\n",
    "frame1"
   ]
  },
  {
   "cell_type": "code",
   "execution_count": null,
   "id": "6e0d1600",
   "metadata": {},
   "outputs": [],
   "source": [
    "curves = frame1.curves()\n",
    "depth = curves['TDEP']* 0.00254\n",
    "curves"
   ]
  },
  {
   "cell_type": "code",
   "execution_count": 42,
   "id": "1f180246",
   "metadata": {},
   "outputs": [
    {
     "data": {
      "text/plain": [
       "[<matplotlib.lines.Line2D at 0x1f9fdaccee0>]"
      ]
     },
     "execution_count": 42,
     "metadata": {},
     "output_type": "execute_result"
    },
    {
     "data": {
      "image/png": "[encoded data removed]",
      "text/plain": [
       "<Figure size 432x288 with 1 Axes>"
      ]
     },
     "metadata": {
      "needs_background": "light"
     },
     "output_type": "display_data"
    }
   ],
   "source": [
    "rcpp = curves['RCPP']\n",
    "plt.plot(depth, rcpp)"
   ]
  },
  {
   "cell_type": "code",
   "execution_count": null,
   "id": "5bc056d9",
   "metadata": {},
   "outputs": [],
   "source": [
    "print(tail)"
   ]
  },
  {
   "cell_type": "code",
   "execution_count": null,
   "id": "ade73984",
   "metadata": {},
   "outputs": [],
   "source": [
    "# view methods on f\n",
    "f.channels                 "
   ]
  },
  {
   "cell_type": "markdown",
   "id": "3dc47656",
   "metadata": {},
   "source": [
    "To view the high level contents we can use .describe(). This will return information abt the no of frames, channels and objects within the file.We can see 2 frames and 104 channels (logging curves)."
   ]
  },
  {
   "cell_type": "code",
   "execution_count": null,
   "id": "8ae4e4f1",
   "metadata": {},
   "outputs": [],
   "source": [
    "f.describe()"
   ]
  },
  {
   "cell_type": "markdown",
   "id": "20fe1ecf",
   "metadata": {},
   "source": [
    "## Viewing the file's Metadata"
   ]
  },
  {
   "cell_type": "markdown",
   "id": "d0d58f36",
   "metadata": {},
   "source": [
    "Data Origin : Source of the data"
   ]
  },
  {
   "cell_type": "code",
   "execution_count": null,
   "id": "46392e04",
   "metadata": {},
   "outputs": [],
   "source": [
    "origin , *origin_tail = f.origins"
   ]
  },
  {
   "cell_type": "code",
   "execution_count": null,
   "id": "4e46ec2f",
   "metadata": {},
   "outputs": [],
   "source": [
    "origin"
   ]
  },
  {
   "cell_type": "code",
   "execution_count": null,
   "id": "1c5a783a",
   "metadata": {},
   "outputs": [],
   "source": [
    "origin_tail"
   ]
  },
  {
   "cell_type": "code",
   "execution_count": null,
   "id": "6db2dc6b",
   "metadata": {},
   "outputs": [],
   "source": [
    "origin.describe()"
   ]
  },
  {
   "cell_type": "markdown",
   "id": "76d4e437",
   "metadata": {},
   "source": [
    "## Frames"
   ]
  },
  {
   "cell_type": "markdown",
   "id": "72e1c193",
   "metadata": {},
   "source": [
    "Frames within a DLIS file can represent logging passes or different stages of data such as raw well log measurements to petrophysical interpretations or processed data. Each frame has a number of properties "
   ]
  },
  {
   "cell_type": "code",
   "execution_count": null,
   "id": "6d56779a",
   "metadata": {},
   "outputs": [],
   "source": [
    "f.frames"
   ]
  },
  {
   "cell_type": "code",
   "execution_count": null,
   "id": "b08e0071",
   "metadata": {},
   "outputs": [],
   "source": [
    "#loop over each frame within the file\n",
    "for frame in f.frames:\n",
    "\n",
    "        # Search through the channels for the index aqnd obtain the units\n",
    "        for channel in frame.channels:\n",
    "            if channel.name == frame.index:\n",
    "                depth_units = channel.units\n",
    "                \n",
    "        print(f'Frame Name: \\t\\t {frame.name}')\n",
    "        print(f'Index Type: \\t\\t {frame.index_type}')\n",
    "        print(f'Depth Interval: \\t {frame.index_min} - {frame.index_max} {depth_units}')\n",
    "        print(f'Depth Spacing: \\t\\t {frame.spacing} {depth_units}')\n",
    "        print(f'Direction: \\t\\t {frame.direction}')\n",
    "        print(f'Num of Channels: \\t {len(frame.channels)}')\n",
    "        print(f'Channel Names: \\t {str(frame.channels)}')\n",
    "        print('\\n\\n')"
   ]
  },
  {
   "cell_type": "markdown",
   "id": "75a6c3c6",
   "metadata": {},
   "source": [
    "### Parameters within the DLIS file"
   ]
  },
  {
   "cell_type": "code",
   "execution_count": null,
   "id": "a562a553",
   "metadata": {},
   "outputs": [],
   "source": [
    "def summary_dataframe(object, **kwargs):\n",
    "    #create an empty dataframe\n",
    "    df = pd.DataFrame()\n",
    "    \n",
    "    #Iterate over each of the keyword arguments\n",
    "    for i, (key,value) in enumerate(kwargs.items()):\n",
    "        list_of_values =[]\n",
    "        \n",
    "        #Iterate over each parameter and get the relevant key\n",
    "        for items in object:\n",
    "            #Account for any missing values.\n",
    "            \n",
    "            try:\n",
    "                x = getattr(items, key)\n",
    "                list_of_values.append(x)\n",
    "            except:\n",
    "                list_of_values.append('')\n",
    "                continue\n",
    "        \n",
    "        #Add a new column to our dataframe\n",
    "        df[value] = list_of_values\n",
    "        \n",
    "    # Sort the dataframe  by column 1 and return it\n",
    "    return df.sort_values(df.columns[0])\n",
    "\n",
    "\n",
    "        \n",
    "        \n",
    "    "
   ]
  },
  {
   "cell_type": "markdown",
   "id": "135e7a1f",
   "metadata": {},
   "source": [
    "The parameters can be accessed by calling upon f.parameters. To access the parameters we can use the attributes name, long_name and values and pass these into summary function\n",
    "\n",
    "This returns a long table of each of the parameter. The example below is a small section of that table. From it we can see parameters such as bottom log interval, borehole salinity and bottom hole temperature."
   ]
  },
  {
   "cell_type": "code",
   "execution_count": null,
   "id": "2cd36c40",
   "metadata": {},
   "outputs": [],
   "source": [
    "param_df = summary_dataframe(f.parameters, name ='Name', long_name = 'Long Name', values = 'Values')\n",
    "\n",
    "\n",
    "# Hiding people's name that maybe in parameters.\n",
    "# These 2 lines can be commented out to show them\n",
    "mask = param_df['Name'].isin(['R8', 'RR1','WITN','ENGI'])\n",
    "param_df = param_df[~mask]\n",
    "\n",
    "param_df"
   ]
  },
  {
   "cell_type": "markdown",
   "id": "5d02229d",
   "metadata": {},
   "source": [
    "## Channels"
   ]
  },
  {
   "cell_type": "markdown",
   "id": "47cf062a",
   "metadata": {},
   "source": [
    "The channels within a frame are the individual curves or arrays. To view a quick summary of these, we can pass in a number of attributes to the summary_dataframe() method."
   ]
  },
  {
   "cell_type": "code",
   "execution_count": null,
   "id": "a647b6f7",
   "metadata": {},
   "outputs": [],
   "source": [
    "channels = summary_dataframe(f.channels , name= 'Name', long_name= 'Long Name', values = 'Values')\n",
    "channels"
   ]
  },
  {
   "cell_type": "markdown",
   "id": "7176197c",
   "metadata": {},
   "source": [
    "## Tools"
   ]
  },
  {
   "cell_type": "markdown",
   "id": "14aa1e85",
   "metadata": {},
   "source": [
    "The tools object within the DLIS file contains information relating to the tools that were used to acquire the data. We can get a summary of the tools available by calling upon the summary_dataframe method."
   ]
  },
  {
   "cell_type": "code",
   "execution_count": null,
   "id": "25b19755",
   "metadata": {},
   "outputs": [],
   "source": [
    "tools = summary_dataframe(f.tools, name= 'Name', description = 'Description')\n",
    "tools"
   ]
  },
  {
   "cell_type": "code",
   "execution_count": null,
   "id": "dc61be58",
   "metadata": {},
   "outputs": [],
   "source": [
    "f.tools"
   ]
  },
  {
   "cell_type": "markdown",
   "id": "47f74008",
   "metadata": {},
   "source": [
    "As we are looking to plot accoustic waveform data, we can look at the parameters for the MSCT tool. First, we need to grab the object from the dlis and then pass it into the summary_dataframe function\n",
    "\n",
    "From the returned table, we can view each of the parameters that relate to the tool and the processing of the data"
   ]
  },
  {
   "cell_type": "code",
   "execution_count": null,
   "id": "f9c901d5",
   "metadata": {},
   "outputs": [],
   "source": [
    "msct = f.object('TOOL', 'MSCT')\n",
    "msct_params = summary_dataframe(msct.parameters, name = 'Name', long_name= 'Long Name', value = 'Values')"
   ]
  },
  {
   "cell_type": "code",
   "execution_count": null,
   "id": "4794a89f",
   "metadata": {},
   "outputs": [],
   "source": [
    "msct_params"
   ]
  },
  {
   "cell_type": "markdown",
   "id": "38f92aa0",
   "metadata": {},
   "source": [
    "## Working With Data Objects"
   ]
  },
  {
   "cell_type": "markdown",
   "id": "fe310275",
   "metadata": {},
   "source": [
    "Now that some of the meta data has been explored, we can now attempt to access the data stored within the file."
   ]
  },
  {
   "cell_type": "code",
   "execution_count": null,
   "id": "880a3c21",
   "metadata": {},
   "outputs": [],
   "source": [
    "frame1 = f.object('FRAME' , '800T')"
   ]
  },
  {
   "cell_type": "code",
   "execution_count": null,
   "id": "77f3ae14",
   "metadata": {},
   "outputs": [],
   "source": [
    "frame1"
   ]
  },
  {
   "cell_type": "markdown",
   "id": "0f7cf02b",
   "metadata": {},
   "source": [
    "We can also directly access the channels for a specific curve. However, this can cause confusion when working with frames containing channels/curves with the same name."
   ]
  },
  {
   "cell_type": "code",
   "execution_count": null,
   "id": "e3be0346",
   "metadata": {},
   "outputs": [],
   "source": [
    "bhpr = f.object('CHANNEL', 'BHPR')\n",
    "\n",
    "#Print out the properties of the channel/curve\n",
    "\n",
    "print(f'Name: \\t\\t{bhpr.name}')\n",
    "print(f'Long Name: \\t\\t{bhpr.long_name}')\n",
    "print(f'Units: \\t\\t{bhpr.units}')\n",
    "print(f'Dimension: \\t\\t{bhpr.dimension}')"
   ]
  },
  {
   "cell_type": "code",
   "execution_count": null,
   "id": "a04e3f94",
   "metadata": {},
   "outputs": [],
   "source": [
    "bs = f.object('CHANNEL', 'BS')\n",
    "\n",
    "#Print out the properties of the channel/curve\n",
    "\n",
    "print(f'Name: \\t\\t{bs.name}')\n",
    "print(f'Long Name: \\t\\t{bs.long_name}')\n",
    "print(f'Units: \\t\\t{bs.units}')\n",
    "print(f'Dimension: \\t\\t{bs.dimension}')"
   ]
  },
  {
   "cell_type": "code",
   "execution_count": null,
   "id": "4bd83c76",
   "metadata": {},
   "outputs": [],
   "source": [
    "hmdv = f.object('CHANNEL', 'HMDV')\n",
    "\n",
    "#Print out the properties of the channel/curve\n",
    "\n",
    "print(f'Name: \\t\\t{hmdv.name}')\n",
    "print(f'Long Name: \\t\\t{hmdv.long_name}')\n",
    "print(f'Units: \\t\\t{hmdv.units}')\n",
    "print(f'Dimension: \\t\\t{hmdv.dimension}')"
   ]
  },
  {
   "cell_type": "markdown",
   "id": "7740baf7",
   "metadata": {},
   "source": [
    "## Plotting Data"
   ]
  },
  {
   "cell_type": "code",
   "execution_count": null,
   "id": "e55dc59c",
   "metadata": {},
   "outputs": [],
   "source": [
    "curves = frame1.curves()"
   ]
  },
  {
   "cell_type": "code",
   "execution_count": null,
   "id": "10e68aa4",
   "metadata": {},
   "outputs": [],
   "source": [
    "curves\n",
    "rcpp = curves['RCPP']\n",
    "plt.plot(depth, rcpp)"
   ]
  },
  {
   "cell_type": "code",
   "execution_count": null,
   "id": "2c3c876d",
   "metadata": {},
   "outputs": [],
   "source": [
    "depth = curves['TDEP']* 0.00254\n",
    "rcpp = curves['RCPP']\n",
    "rhmd = curves['RHMD']\n",
    "\n",
    "print(f'{depth.min()} - {depth.max()}')"
   ]
  },
  {
   "cell_type": "code",
   "execution_count": null,
   "id": "54d4a8aa",
   "metadata": {},
   "outputs": [],
   "source": [
    "rppv = curves['RPPV']"
   ]
  },
  {
   "cell_type": "code",
   "execution_count": null,
   "id": "02ebdb3d",
   "metadata": {},
   "outputs": [],
   "source": [
    "bs = curves['BS']"
   ]
  },
  {
   "cell_type": "code",
   "execution_count": null,
   "id": "5446b410",
   "metadata": {},
   "outputs": [],
   "source": [
    "rppv"
   ]
  },
  {
   "cell_type": "code",
   "execution_count": null,
   "id": "f5180dcb",
   "metadata": {},
   "outputs": [],
   "source": [
    "rcpp"
   ]
  },
  {
   "cell_type": "code",
   "execution_count": null,
   "id": "27a17c54",
   "metadata": {},
   "outputs": [],
   "source": [
    "rhmd"
   ]
  },
  {
   "cell_type": "code",
   "execution_count": null,
   "id": "4ca7fa5d",
   "metadata": {},
   "outputs": [],
   "source": [
    "plt.plot(depth, rppv)\n",
    "plt.plot(depth,rhmd)\n",
    "plt.ylim(40, 240)"
   ]
  },
  {
   "cell_type": "code",
   "execution_count": null,
   "id": "02058642",
   "metadata": {},
   "outputs": [],
   "source": [
    "plt.plot(depth, rppv)"
   ]
  },
  {
   "cell_type": "code",
   "execution_count": null,
   "id": "116f3cc2",
   "metadata": {},
   "outputs": [],
   "source": [
    "plt.plot( depth)"
   ]
  },
  {
   "cell_type": "code",
   "execution_count": null,
   "id": "45e2748d",
   "metadata": {},
   "outputs": [],
   "source": [
    "plt.plot(depth,rcpp)"
   ]
  },
  {
   "cell_type": "code",
   "execution_count": null,
   "id": "07c2d4ff",
   "metadata": {},
   "outputs": [],
   "source": [
    "plt.plot(rcpp)"
   ]
  },
  {
   "cell_type": "code",
   "execution_count": null,
   "id": "75a04952",
   "metadata": {},
   "outputs": [],
   "source": [
    "plt.plot(rppv)"
   ]
  },
  {
   "cell_type": "code",
   "execution_count": null,
   "id": "abd5530c",
   "metadata": {},
   "outputs": [],
   "source": [
    "plt.plot(rhmd)"
   ]
  },
  {
   "cell_type": "code",
   "execution_count": null,
   "id": "aa90268b",
   "metadata": {},
   "outputs": [],
   "source": [
    "plt.plot(depth, rhmd)"
   ]
  },
  {
   "cell_type": "code",
   "execution_count": null,
   "id": "68e5c55e",
   "metadata": {},
   "outputs": [],
   "source": []
  }
 ],
 "metadata": {
  "kernelspec": {
   "display_name": "Python 3.10.5 ('env': venv)",
   "language": "python",
   "name": "python3"
  },
  "language_info": {
   "codemirror_mode": {
    "name": "ipython",
    "version": 3
   },
   "file_extension": ".py",
   "mimetype": "text/x-python",
   "name": "python",
   "nbconvert_exporter": "python",
   "pygments_lexer": "ipython3",
   "version": "3.10.5"
  },
  "vscode": {
   "interpreter": {
    "hash": "e6d3db9c81b0adc76ea4b18ae0522b4ab00d310ea7b2665e659c38d613b2381d"
   }
  }
 },
 "nbformat": 4,
 "nbformat_minor": 5
}
