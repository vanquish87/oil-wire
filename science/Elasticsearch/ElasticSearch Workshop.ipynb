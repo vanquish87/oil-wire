{
 "cells": [
  {
   "cell_type": "markdown",
   "metadata": {},
   "source": [
    "# ElasticSearch Workshop\n",
    "Hosted by Amine M. Boulouma, contact and questions: [amine.boulouma.com](https://amine.boulouma.com)\n",
    "- [ElasticSearch installation](https://www.elastic.co/guide/en/elasticsearch/reference/current/install-elasticsearch.html)\n",
    "- [ElasticSearch python client](https://elasticsearch-py.readthedocs.io/en/master/)"
   ]
  },
  {
   "cell_type": "markdown",
   "metadata": {},
   "source": [
    "## Installing python client\n",
    "\n",
    "```pip install elasticsearch```"
   ]
  },
  {
   "cell_type": "markdown",
   "metadata": {},
   "source": [
    "### Importing packages"
   ]
  },
  {
   "cell_type": "code",
   "execution_count": null,
   "metadata": {},
   "outputs": [],
   "source": [
    "# Import packages\n",
    "\n",
    "from elasticsearch import Elasticsearch"
   ]
  },
  {
   "cell_type": "markdown",
   "metadata": {},
   "source": [
    "### Configurating ElasticSearch"
   ]
  },
  {
   "cell_type": "code",
   "execution_count": 29,
   "metadata": {},
   "outputs": [
    {
     "data": {
      "text/plain": [
       "<Elasticsearch(['http://10.205.18.126:9200'])>"
      ]
     },
     "execution_count": 29,
     "metadata": {},
     "output_type": "execute_result"
    }
   ],
   "source": [
    "# Elastic search configuation\n",
    "\n",
    "# es = Elasticsearch(HOST='10.205.18.126', PORT=9200)\n",
    "# es = Elasticsearch()\n",
    "es = Elasticsearch(\"http://10.205.18.126:9200\")\n",
    "es"
   ]
  },
  {
   "cell_type": "markdown",
   "metadata": {},
   "source": []
  },
  {
   "cell_type": "markdown",
   "metadata": {},
   "source": [
    "### Creating an index"
   ]
  },
  {
   "cell_type": "code",
   "execution_count": 4,
   "metadata": {},
   "outputs": [
    {
     "data": {
      "text/plain": [
       "ObjectApiResponse({'acknowledged': True, 'shards_acknowledged': True, 'index': 'first_index'})"
      ]
     },
     "execution_count": 4,
     "metadata": {},
     "output_type": "execute_result"
    }
   ],
   "source": [
    "# Creating index\n",
    "\n",
    "es.indices.create(index=\"first_index\")"
   ]
  },
  {
   "cell_type": "code",
   "execution_count": 5,
   "metadata": {
    "scrolled": true
   },
   "outputs": [
    {
     "data": {
      "text/plain": [
       "HeadApiResponse(True)"
      ]
     },
     "execution_count": 5,
     "metadata": {},
     "output_type": "execute_result"
    }
   ],
   "source": [
    "# Looking if the index exists\n",
    "\n",
    "es.indices.exists(index=\"first_index\")"
   ]
  },
  {
   "cell_type": "markdown",
   "metadata": {},
   "source": [
    "### Deleting an index"
   ]
  },
  {
   "cell_type": "code",
   "execution_count": 6,
   "metadata": {},
   "outputs": [
    {
     "data": {
      "text/plain": [
       "ObjectApiResponse({'acknowledged': True})"
      ]
     },
     "execution_count": 6,
     "metadata": {},
     "output_type": "execute_result"
    }
   ],
   "source": [
    "# Delete index\n",
    "\n",
    "es.indices.delete(index=\"first_index\")"
   ]
  },
  {
   "cell_type": "code",
   "execution_count": 7,
   "metadata": {},
   "outputs": [
    {
     "data": {
      "text/plain": [
       "HeadApiResponse(False)"
      ]
     },
     "execution_count": 7,
     "metadata": {},
     "output_type": "execute_result"
    }
   ],
   "source": [
    "es.indices.exists(index=\"first_index\")"
   ]
  },
  {
   "cell_type": "markdown",
   "metadata": {},
   "source": [
    "### Inserting and getting data"
   ]
  },
  {
   "cell_type": "code",
   "execution_count": 23,
   "metadata": {
    "scrolled": true
   },
   "outputs": [
    {
     "name": "stderr",
     "output_type": "stream",
     "text": [
      "C:\\Users\\JasmeetSingh\\AppData\\Local\\Temp\\ipykernel_14612\\4146488943.py:7: DeprecationWarning: The 'body' parameter is deprecated and will be removed in a future version. Instead use the 'document' parameter. See https://github.com/elastic/elasticsearch-py/issues/1698 for more information\n",
      "  es.index(index=\"cities\", doc_type=\"places\", id=1, body=doc_1)\n"
     ]
    },
    {
     "ename": "TypeError",
     "evalue": "Elasticsearch.index() got an unexpected keyword argument 'doc_type'",
     "output_type": "error",
     "traceback": [
      "\u001b[1;31m---------------------------------------------------------------------------\u001b[0m",
      "\u001b[1;31mTypeError\u001b[0m                                 Traceback (most recent call last)",
      "\u001b[1;32mc:\\Jimmy\\Codeholic\\ongc-wire\\science\\Elasticsearch\\ElasticSearch Workshop.ipynb Cell 15\u001b[0m in \u001b[0;36m<cell line: 7>\u001b[1;34m()\u001b[0m\n\u001b[0;32m      <a href='vscode-notebook-cell:/c%3A/Jimmy/Codeholic/ongc-wire/science/Elasticsearch/ElasticSearch%20Workshop.ipynb#X16sZmlsZQ%3D%3D?line=3'>4</a>\u001b[0m doc_2 \u001b[39m=\u001b[39m {\u001b[39m\"\u001b[39m\u001b[39mcity\u001b[39m\u001b[39m\"\u001b[39m: \u001b[39m\"\u001b[39m\u001b[39mVienna\u001b[39m\u001b[39m\"\u001b[39m, \u001b[39m\"\u001b[39m\u001b[39mcountry\u001b[39m\u001b[39m\"\u001b[39m: \u001b[39m\"\u001b[39m\u001b[39mAustria\u001b[39m\u001b[39m\"\u001b[39m}\n\u001b[0;32m      <a href='vscode-notebook-cell:/c%3A/Jimmy/Codeholic/ongc-wire/science/Elasticsearch/ElasticSearch%20Workshop.ipynb#X16sZmlsZQ%3D%3D?line=4'>5</a>\u001b[0m doc_3 \u001b[39m=\u001b[39m {\u001b[39m\"\u001b[39m\u001b[39mcity\u001b[39m\u001b[39m\"\u001b[39m: \u001b[39m\"\u001b[39m\u001b[39mLondon\u001b[39m\u001b[39m\"\u001b[39m, \u001b[39m\"\u001b[39m\u001b[39mcountry\u001b[39m\u001b[39m\"\u001b[39m: \u001b[39m\"\u001b[39m\u001b[39mEngland\u001b[39m\u001b[39m\"\u001b[39m}\n\u001b[1;32m----> <a href='vscode-notebook-cell:/c%3A/Jimmy/Codeholic/ongc-wire/science/Elasticsearch/ElasticSearch%20Workshop.ipynb#X16sZmlsZQ%3D%3D?line=6'>7</a>\u001b[0m es\u001b[39m.\u001b[39;49mindex(index\u001b[39m=\u001b[39;49m\u001b[39m\"\u001b[39;49m\u001b[39mcities\u001b[39;49m\u001b[39m\"\u001b[39;49m, doc_type\u001b[39m=\u001b[39;49m\u001b[39m\"\u001b[39;49m\u001b[39mplaces\u001b[39;49m\u001b[39m\"\u001b[39;49m, \u001b[39mid\u001b[39;49m\u001b[39m=\u001b[39;49m\u001b[39m1\u001b[39;49m, body\u001b[39m=\u001b[39;49mdoc_1)\n",
      "File \u001b[1;32mc:\\Jimmy\\Codeholic\\ongc-wire\\env\\lib\\site-packages\\elasticsearch\\_sync\\client\\utils.py:414\u001b[0m, in \u001b[0;36m_rewrite_parameters.<locals>.wrapper.<locals>.wrapped\u001b[1;34m(*args, **kwargs)\u001b[0m\n\u001b[0;32m    411\u001b[0m         \u001b[39mexcept\u001b[39;00m \u001b[39mKeyError\u001b[39;00m:\n\u001b[0;32m    412\u001b[0m             \u001b[39mpass\u001b[39;00m\n\u001b[1;32m--> 414\u001b[0m \u001b[39mreturn\u001b[39;00m api(\u001b[39m*\u001b[39margs, \u001b[39m*\u001b[39m\u001b[39m*\u001b[39mkwargs)\n",
      "\u001b[1;31mTypeError\u001b[0m: Elasticsearch.index() got an unexpected keyword argument 'doc_type'"
     ]
    }
   ],
   "source": [
    "# Inserting data\n",
    "\n",
    "doc_1 = {\"city\": \"Paris\", \"country\": \"France\"}\n",
    "doc_2 = {\"city\": \"Vienna\", \"country\": \"Austria\"}\n",
    "doc_3 = {\"city\": \"London\", \"country\": \"England\"}\n",
    "\n",
    "es.index(index=\"cities\", doc_type=\"places\", id=1, body=doc_1)"
   ]
  },
  {
   "cell_type": "code",
   "execution_count": 24,
   "metadata": {},
   "outputs": [
    {
     "name": "stderr",
     "output_type": "stream",
     "text": [
      "C:\\Users\\JasmeetSingh\\AppData\\Local\\Temp\\ipykernel_14612\\2496611161.py:1: DeprecationWarning: The 'body' parameter is deprecated and will be removed in a future version. Instead use the 'document' parameter. See https://github.com/elastic/elasticsearch-py/issues/1698 for more information\n",
      "  es.index(index=\"cities\", doc_type=\"places\", id=2, body=doc_2)\n"
     ]
    },
    {
     "ename": "TypeError",
     "evalue": "Elasticsearch.index() got an unexpected keyword argument 'doc_type'",
     "output_type": "error",
     "traceback": [
      "\u001b[1;31m---------------------------------------------------------------------------\u001b[0m",
      "\u001b[1;31mTypeError\u001b[0m                                 Traceback (most recent call last)",
      "\u001b[1;32mc:\\Jimmy\\Codeholic\\ongc-wire\\science\\Elasticsearch\\ElasticSearch Workshop.ipynb Cell 16\u001b[0m in \u001b[0;36m<cell line: 1>\u001b[1;34m()\u001b[0m\n\u001b[1;32m----> <a href='vscode-notebook-cell:/c%3A/Jimmy/Codeholic/ongc-wire/science/Elasticsearch/ElasticSearch%20Workshop.ipynb#X20sZmlsZQ%3D%3D?line=0'>1</a>\u001b[0m es\u001b[39m.\u001b[39;49mindex(index\u001b[39m=\u001b[39;49m\u001b[39m\"\u001b[39;49m\u001b[39mcities\u001b[39;49m\u001b[39m\"\u001b[39;49m, doc_type\u001b[39m=\u001b[39;49m\u001b[39m\"\u001b[39;49m\u001b[39mplaces\u001b[39;49m\u001b[39m\"\u001b[39;49m, \u001b[39mid\u001b[39;49m\u001b[39m=\u001b[39;49m\u001b[39m2\u001b[39;49m, body\u001b[39m=\u001b[39;49mdoc_2)\n",
      "File \u001b[1;32mc:\\Jimmy\\Codeholic\\ongc-wire\\env\\lib\\site-packages\\elasticsearch\\_sync\\client\\utils.py:414\u001b[0m, in \u001b[0;36m_rewrite_parameters.<locals>.wrapper.<locals>.wrapped\u001b[1;34m(*args, **kwargs)\u001b[0m\n\u001b[0;32m    411\u001b[0m         \u001b[39mexcept\u001b[39;00m \u001b[39mKeyError\u001b[39;00m:\n\u001b[0;32m    412\u001b[0m             \u001b[39mpass\u001b[39;00m\n\u001b[1;32m--> 414\u001b[0m \u001b[39mreturn\u001b[39;00m api(\u001b[39m*\u001b[39margs, \u001b[39m*\u001b[39m\u001b[39m*\u001b[39mkwargs)\n",
      "\u001b[1;31mTypeError\u001b[0m: Elasticsearch.index() got an unexpected keyword argument 'doc_type'"
     ]
    }
   ],
   "source": [
    "es.index(index=\"cities\", doc_type=\"places\", id=2, body=doc_2)"
   ]
  },
  {
   "cell_type": "code",
   "execution_count": 9,
   "metadata": {},
   "outputs": [
    {
     "data": {
      "text/plain": [
       "{'_index': 'cities',\n",
       " '_type': 'places',\n",
       " '_id': '3',\n",
       " '_version': 4,\n",
       " 'result': 'updated',\n",
       " '_shards': {'total': 2, 'successful': 1, 'failed': 0},\n",
       " '_seq_no': 8,\n",
       " '_primary_term': 1}"
      ]
     },
     "execution_count": 9,
     "metadata": {},
     "output_type": "execute_result"
    }
   ],
   "source": [
    "es.index(index=\"cities\", doc_type=\"places\", id=3, body=doc_3)"
   ]
  },
  {
   "cell_type": "code",
   "execution_count": 25,
   "metadata": {},
   "outputs": [
    {
     "ename": "TypeError",
     "evalue": "Elasticsearch.get() got an unexpected keyword argument 'doc_type'",
     "output_type": "error",
     "traceback": [
      "\u001b[1;31m---------------------------------------------------------------------------\u001b[0m",
      "\u001b[1;31mTypeError\u001b[0m                                 Traceback (most recent call last)",
      "\u001b[1;32mc:\\Jimmy\\Codeholic\\ongc-wire\\science\\Elasticsearch\\ElasticSearch Workshop.ipynb Cell 18\u001b[0m in \u001b[0;36m<cell line: 3>\u001b[1;34m()\u001b[0m\n\u001b[0;32m      <a href='vscode-notebook-cell:/c%3A/Jimmy/Codeholic/ongc-wire/science/Elasticsearch/ElasticSearch%20Workshop.ipynb#X22sZmlsZQ%3D%3D?line=0'>1</a>\u001b[0m \u001b[39m# Getting the data\u001b[39;00m\n\u001b[1;32m----> <a href='vscode-notebook-cell:/c%3A/Jimmy/Codeholic/ongc-wire/science/Elasticsearch/ElasticSearch%20Workshop.ipynb#X22sZmlsZQ%3D%3D?line=2'>3</a>\u001b[0m res \u001b[39m=\u001b[39m es\u001b[39m.\u001b[39;49mget(index\u001b[39m=\u001b[39;49m\u001b[39m\"\u001b[39;49m\u001b[39mcities\u001b[39;49m\u001b[39m\"\u001b[39;49m, doc_type\u001b[39m=\u001b[39;49m\u001b[39m\"\u001b[39;49m\u001b[39mplaces\u001b[39;49m\u001b[39m\"\u001b[39;49m, \u001b[39mid\u001b[39;49m\u001b[39m=\u001b[39;49m\u001b[39m1\u001b[39;49m)\n\u001b[0;32m      <a href='vscode-notebook-cell:/c%3A/Jimmy/Codeholic/ongc-wire/science/Elasticsearch/ElasticSearch%20Workshop.ipynb#X22sZmlsZQ%3D%3D?line=4'>5</a>\u001b[0m res\n",
      "File \u001b[1;32mc:\\Jimmy\\Codeholic\\ongc-wire\\env\\lib\\site-packages\\elasticsearch\\_sync\\client\\utils.py:414\u001b[0m, in \u001b[0;36m_rewrite_parameters.<locals>.wrapper.<locals>.wrapped\u001b[1;34m(*args, **kwargs)\u001b[0m\n\u001b[0;32m    411\u001b[0m         \u001b[39mexcept\u001b[39;00m \u001b[39mKeyError\u001b[39;00m:\n\u001b[0;32m    412\u001b[0m             \u001b[39mpass\u001b[39;00m\n\u001b[1;32m--> 414\u001b[0m \u001b[39mreturn\u001b[39;00m api(\u001b[39m*\u001b[39margs, \u001b[39m*\u001b[39m\u001b[39m*\u001b[39mkwargs)\n",
      "\u001b[1;31mTypeError\u001b[0m: Elasticsearch.get() got an unexpected keyword argument 'doc_type'"
     ]
    }
   ],
   "source": [
    "# Getting the data\n",
    "\n",
    "res = es.get(index=\"cities\", doc_type=\"places\", id=1)\n",
    "\n",
    "res"
   ]
  },
  {
   "cell_type": "code",
   "execution_count": null,
   "metadata": {},
   "outputs": [],
   "source": [
    "# Get the data which is present in the _source key\n",
    "\n",
    "res[\"_source\"]"
   ]
  },
  {
   "cell_type": "markdown",
   "metadata": {},
   "source": [
    "### Search query and matching documents"
   ]
  },
  {
   "cell_type": "code",
   "execution_count": 26,
   "metadata": {},
   "outputs": [
    {
     "name": "stderr",
     "output_type": "stream",
     "text": [
      "C:\\Users\\JasmeetSingh\\AppData\\Local\\Temp\\ipykernel_14612\\874634818.py:6: DeprecationWarning: The 'body' parameter is deprecated and will be removed in a future version. Instead use the 'document' parameter. See https://github.com/elastic/elasticsearch-py/issues/1698 for more information\n",
      "  es.index(index=\"english\", doc_type=\"sentences\", id=1, body=doc_1)\n"
     ]
    },
    {
     "ename": "TypeError",
     "evalue": "Elasticsearch.index() got an unexpected keyword argument 'doc_type'",
     "output_type": "error",
     "traceback": [
      "\u001b[1;31m---------------------------------------------------------------------------\u001b[0m",
      "\u001b[1;31mTypeError\u001b[0m                                 Traceback (most recent call last)",
      "\u001b[1;32mc:\\Jimmy\\Codeholic\\ongc-wire\\science\\Elasticsearch\\ElasticSearch Workshop.ipynb Cell 21\u001b[0m in \u001b[0;36m<cell line: 6>\u001b[1;34m()\u001b[0m\n\u001b[0;32m      <a href='vscode-notebook-cell:/c%3A/Jimmy/Codeholic/ongc-wire/science/Elasticsearch/ElasticSearch%20Workshop.ipynb#X25sZmlsZQ%3D%3D?line=2'>3</a>\u001b[0m doc_1 \u001b[39m=\u001b[39m {\u001b[39m\"\u001b[39m\u001b[39msentence\u001b[39m\u001b[39m\"\u001b[39m:\u001b[39m\"\u001b[39m\u001b[39mHack COVID-19 is amazing!\u001b[39m\u001b[39m\"\u001b[39m}\n\u001b[0;32m      <a href='vscode-notebook-cell:/c%3A/Jimmy/Codeholic/ongc-wire/science/Elasticsearch/ElasticSearch%20Workshop.ipynb#X25sZmlsZQ%3D%3D?line=3'>4</a>\u001b[0m doc_2 \u001b[39m=\u001b[39m {\u001b[39m\"\u001b[39m\u001b[39msentence\u001b[39m\u001b[39m\"\u001b[39m:\u001b[39m\"\u001b[39m\u001b[39mHack-Quarantine is stunning!\u001b[39m\u001b[39m\"\u001b[39m}\n\u001b[1;32m----> <a href='vscode-notebook-cell:/c%3A/Jimmy/Codeholic/ongc-wire/science/Elasticsearch/ElasticSearch%20Workshop.ipynb#X25sZmlsZQ%3D%3D?line=5'>6</a>\u001b[0m es\u001b[39m.\u001b[39;49mindex(index\u001b[39m=\u001b[39;49m\u001b[39m\"\u001b[39;49m\u001b[39menglish\u001b[39;49m\u001b[39m\"\u001b[39;49m, doc_type\u001b[39m=\u001b[39;49m\u001b[39m\"\u001b[39;49m\u001b[39msentences\u001b[39;49m\u001b[39m\"\u001b[39;49m, \u001b[39mid\u001b[39;49m\u001b[39m=\u001b[39;49m\u001b[39m1\u001b[39;49m, body\u001b[39m=\u001b[39;49mdoc_1)\n\u001b[0;32m      <a href='vscode-notebook-cell:/c%3A/Jimmy/Codeholic/ongc-wire/science/Elasticsearch/ElasticSearch%20Workshop.ipynb#X25sZmlsZQ%3D%3D?line=6'>7</a>\u001b[0m es\u001b[39m.\u001b[39mindex(index\u001b[39m=\u001b[39m\u001b[39m\"\u001b[39m\u001b[39menglish\u001b[39m\u001b[39m\"\u001b[39m, doc_type\u001b[39m=\u001b[39m\u001b[39m\"\u001b[39m\u001b[39msentences\u001b[39m\u001b[39m\"\u001b[39m, \u001b[39mid\u001b[39m\u001b[39m=\u001b[39m\u001b[39m2\u001b[39m, body\u001b[39m=\u001b[39mdoc_2)\n",
      "File \u001b[1;32mc:\\Jimmy\\Codeholic\\ongc-wire\\env\\lib\\site-packages\\elasticsearch\\_sync\\client\\utils.py:414\u001b[0m, in \u001b[0;36m_rewrite_parameters.<locals>.wrapper.<locals>.wrapped\u001b[1;34m(*args, **kwargs)\u001b[0m\n\u001b[0;32m    411\u001b[0m         \u001b[39mexcept\u001b[39;00m \u001b[39mKeyError\u001b[39;00m:\n\u001b[0;32m    412\u001b[0m             \u001b[39mpass\u001b[39;00m\n\u001b[1;32m--> 414\u001b[0m \u001b[39mreturn\u001b[39;00m api(\u001b[39m*\u001b[39margs, \u001b[39m*\u001b[39m\u001b[39m*\u001b[39mkwargs)\n",
      "\u001b[1;31mTypeError\u001b[0m: Elasticsearch.index() got an unexpected keyword argument 'doc_type'"
     ]
    }
   ],
   "source": [
    "# Creating our data\n",
    "\n",
    "doc_1 = {\"sentence\":\"Hack COVID-19 is amazing!\"}\n",
    "doc_2 = {\"sentence\":\"Hack-Quarantine is stunning!\"}\n",
    "\n",
    "es.index(index=\"english\", doc_type=\"sentences\", id=1, body=doc_1)\n",
    "es.index(index=\"english\", doc_type=\"sentences\", id=2, body=doc_2)"
   ]
  },
  {
   "cell_type": "code",
   "execution_count": 30,
   "metadata": {},
   "outputs": [
    {
     "name": "stderr",
     "output_type": "stream",
     "text": [
      "C:\\Users\\JasmeetSingh\\AppData\\Local\\Temp\\ipykernel_14612\\823689294.py:13: DeprecationWarning: The 'body' parameter is deprecated and will be removed in a future version. Instead use individual parameters.\n",
      "  res = es.search(body=body)\n"
     ]
    },
    {
     "data": {
      "text/plain": [
       "ObjectApiResponse({'took': 1, 'timed_out': False, '_shards': {'total': 3, 'successful': 3, 'skipped': 0, 'failed': 0}, 'hits': {'total': {'value': 0, 'relation': 'eq'}, 'max_score': None, 'hits': []}})"
      ]
     },
     "execution_count": 30,
     "metadata": {},
     "output_type": "execute_result"
    }
   ],
   "source": [
    "# Creating our query\n",
    "\n",
    "## Match query \n",
    "\n",
    "body = {\n",
    "    \"query\": {\n",
    "        \"match\": {\n",
    "            \"sentence\":\"entire drilling fraternity\"\n",
    "        }\n",
    "    }\n",
    "}\n",
    "\n",
    "res = es.search(body=body)\n",
    "res"
   ]
  },
  {
   "cell_type": "code",
   "execution_count": null,
   "metadata": {},
   "outputs": [],
   "source": [
    "resp = es.search(query={\"match_all\": {}})\n",
    "resp"
   ]
  },
  {
   "cell_type": "code",
   "execution_count": 12,
   "metadata": {},
   "outputs": [
    {
     "data": {
      "text/plain": [
       "3"
      ]
     },
     "execution_count": 12,
     "metadata": {},
     "output_type": "execute_result"
    }
   ],
   "source": [
    "resp['hits']['total']['value']"
   ]
  },
  {
   "cell_type": "code",
   "execution_count": 13,
   "metadata": {},
   "outputs": [],
   "source": [
    "for hit in resp['hits']['hits']:\n",
    "     1"
   ]
  },
  {
   "cell_type": "code",
   "execution_count": null,
   "metadata": {},
   "outputs": [],
   "source": [
    "body = {\n",
    "    \"from\":0,\n",
    "    \"size\":2,\n",
    "    \"query\": {\n",
    "        \"match\": {\n",
    "            \"sentence\":\"Hack\"\n",
    "        }\n",
    "    }\n",
    "}\n",
    "\n",
    "res = es.search(index=\"english\", body=body)\n",
    "res"
   ]
  },
  {
   "cell_type": "code",
   "execution_count": 15,
   "metadata": {},
   "outputs": [
    {
     "data": {
      "text/plain": [
       "{'took': 3,\n",
       " 'timed_out': False,\n",
       " '_shards': {'total': 1, 'successful': 1, 'skipped': 0, 'failed': 0},\n",
       " 'hits': {'total': {'value': 3, 'relation': 'eq'},\n",
       "  'max_score': 1.1505672,\n",
       "  'hits': [{'_index': 'english',\n",
       "    '_type': 'sentences',\n",
       "    '_id': '2',\n",
       "    '_score': 1.1505672,\n",
       "    '_source': {'sentence': 'Hack-Quarantine is stunning!'}},\n",
       "   {'_index': 'english',\n",
       "    '_type': 'sentences',\n",
       "    '_id': '3',\n",
       "    '_score': 0.13786995,\n",
       "    '_source': {'sentence': 'Hack nCov is great!'}}]}}"
      ]
     },
     "execution_count": 15,
     "metadata": {},
     "output_type": "execute_result"
    }
   ],
   "source": [
    "body = {\n",
    "    \"from\":0,\n",
    "    \"size\":2,\n",
    "    \"query\": {\n",
    "        \"match\": {\n",
    "            \"sentence\":\"Hack Quarantine\"\n",
    "        }\n",
    "    }\n",
    "}\n",
    "\n",
    "res = es.search(index=\"english\", body=body)\n",
    "res"
   ]
  },
  {
   "cell_type": "code",
   "execution_count": 16,
   "metadata": {
    "scrolled": true
   },
   "outputs": [
    {
     "data": {
      "text/plain": [
       "{'took': 2,\n",
       " 'timed_out': False,\n",
       " '_shards': {'total': 1, 'successful': 1, 'skipped': 0, 'failed': 0},\n",
       " 'hits': {'total': {'value': 1, 'relation': 'eq'},\n",
       "  'max_score': 1.1505672,\n",
       "  'hits': [{'_index': 'english',\n",
       "    '_type': 'sentences',\n",
       "    '_id': '2',\n",
       "    '_score': 1.1505672,\n",
       "    '_source': {'sentence': 'Hack-Quarantine is stunning!'}}]}}"
      ]
     },
     "execution_count": 16,
     "metadata": {},
     "output_type": "execute_result"
    }
   ],
   "source": [
    "# match_phrase \n",
    "\n",
    "body = {\n",
    "    \"from\":0,\n",
    "    \"size\":1,\n",
    "    \"query\": {\n",
    "        \"match_phrase\": {\n",
    "            \"sentence\":\"Hack Quarantine\"\n",
    "        }\n",
    "    }\n",
    "}\n",
    "\n",
    "res = es.search(index=\"english\", body=body)\n",
    "res"
   ]
  },
  {
   "cell_type": "markdown",
   "metadata": {},
   "source": [
    "### Combining queries"
   ]
  },
  {
   "cell_type": "code",
   "execution_count": 17,
   "metadata": {
    "scrolled": true
   },
   "outputs": [
    {
     "data": {
      "text/plain": [
       "{'took': 2,\n",
       " 'timed_out': False,\n",
       " '_shards': {'total': 1, 'successful': 1, 'skipped': 0, 'failed': 0},\n",
       " 'hits': {'total': {'value': 2, 'relation': 'eq'},\n",
       "  'max_score': 0.13786995,\n",
       "  'hits': [{'_index': 'english',\n",
       "    '_type': 'sentences',\n",
       "    '_id': '2',\n",
       "    '_score': 0.13786995,\n",
       "    '_source': {'sentence': 'Hack-Quarantine is stunning!'}},\n",
       "   {'_index': 'english',\n",
       "    '_type': 'sentences',\n",
       "    '_id': '3',\n",
       "    '_score': 0.13786995,\n",
       "    '_source': {'sentence': 'Hack nCov is great!'}}]}}"
      ]
     },
     "execution_count": 17,
     "metadata": {},
     "output_type": "execute_result"
    }
   ],
   "source": [
    "# must, must_not and should\n",
    " \n",
    "body = {\n",
    "    \"from\":0,\n",
    "    \"size\":2,\n",
    "    \"query\": {\n",
    "        \"bool\": {\n",
    "            \"must_not\": {\n",
    "                \"match\": {\n",
    "                    \"sentence\":\"COVID-19\"\n",
    "                }\n",
    "            },\n",
    "            \"should\": {\n",
    "                \"match\": {\n",
    "                    \"sentence\": \"Hack\"\n",
    "                }\n",
    "            }\n",
    "        }\n",
    "    }\n",
    "}\n",
    "\n",
    "res = es.search(index=\"english\", body=body)\n",
    "res"
   ]
  },
  {
   "cell_type": "markdown",
   "metadata": {},
   "source": [
    "### Regular Expressions Queries"
   ]
  },
  {
   "cell_type": "code",
   "execution_count": 18,
   "metadata": {},
   "outputs": [
    {
     "data": {
      "text/plain": [
       "{'_index': 'english',\n",
       " '_type': 'sentences',\n",
       " '_id': '1',\n",
       " '_version': 9,\n",
       " 'result': 'updated',\n",
       " '_shards': {'total': 2, 'successful': 1, 'failed': 0},\n",
       " '_seq_no': 19,\n",
       " '_primary_term': 1}"
      ]
     },
     "execution_count": 18,
     "metadata": {},
     "output_type": "execute_result"
    }
   ],
   "source": [
    "# Updating our data\n",
    "\n",
    "doc_1 = {\"sentence\":\"Hack COVID-19 is amazing!\"}\n",
    "doc_2 = {\"sentence\":\"Hack-Quarantine is stunning!\"}\n",
    "doc_3 = {\"sentence\":\"Hack nCov is great!\"}\n",
    "\n",
    "es.index(index=\"english\", doc_type=\"sentences\", id=1, body=doc_1)"
   ]
  },
  {
   "cell_type": "code",
   "execution_count": 19,
   "metadata": {},
   "outputs": [
    {
     "data": {
      "text/plain": [
       "{'_index': 'english',\n",
       " '_type': 'sentences',\n",
       " '_id': '2',\n",
       " '_version': 10,\n",
       " 'result': 'updated',\n",
       " '_shards': {'total': 2, 'successful': 1, 'failed': 0},\n",
       " '_seq_no': 20,\n",
       " '_primary_term': 1}"
      ]
     },
     "execution_count": 19,
     "metadata": {},
     "output_type": "execute_result"
    }
   ],
   "source": [
    "es.index(index=\"english\", doc_type=\"sentences\", id=2, body=doc_2)"
   ]
  },
  {
   "cell_type": "code",
   "execution_count": 20,
   "metadata": {
    "scrolled": true
   },
   "outputs": [
    {
     "data": {
      "text/plain": [
       "{'_index': 'english',\n",
       " '_type': 'sentences',\n",
       " '_id': '3',\n",
       " '_version': 3,\n",
       " 'result': 'updated',\n",
       " '_shards': {'total': 2, 'successful': 1, 'failed': 0},\n",
       " '_seq_no': 21,\n",
       " '_primary_term': 1}"
      ]
     },
     "execution_count": 20,
     "metadata": {},
     "output_type": "execute_result"
    }
   ],
   "source": [
    "es.index(index=\"english\", doc_type=\"sentences\", id=3, body=doc_3)"
   ]
  },
  {
   "cell_type": "code",
   "execution_count": 21,
   "metadata": {
    "scrolled": true
   },
   "outputs": [
    {
     "data": {
      "text/plain": [
       "{'took': 5,\n",
       " 'timed_out': False,\n",
       " '_shards': {'total': 1, 'successful': 1, 'skipped': 0, 'failed': 0},\n",
       " 'hits': {'total': {'value': 3, 'relation': 'eq'},\n",
       "  'max_score': 1.0,\n",
       "  'hits': [{'_index': 'english',\n",
       "    '_type': 'sentences',\n",
       "    '_id': '1',\n",
       "    '_score': 1.0,\n",
       "    '_source': {'sentence': 'Hack COVID-19 is amazing!'}},\n",
       "   {'_index': 'english',\n",
       "    '_type': 'sentences',\n",
       "    '_id': '2',\n",
       "    '_score': 1.0,\n",
       "    '_source': {'sentence': 'Hack-Quarantine is stunning!'}},\n",
       "   {'_index': 'english',\n",
       "    '_type': 'sentences',\n",
       "    '_id': '3',\n",
       "    '_score': 1.0,\n",
       "    '_source': {'sentence': 'Hack nCov is great!'}}]}}"
      ]
     },
     "execution_count": 21,
     "metadata": {},
     "output_type": "execute_result"
    }
   ],
   "source": [
    "# regexp query\n",
    "\n",
    "body = {\n",
    "    \"from\":0,\n",
    "    \"size\":3,\n",
    "    \"query\": {\n",
    "        \"regexp\": {\n",
    "            \"sentence\":\".*\"\n",
    "        }\n",
    "    }\n",
    "}\n",
    "\n",
    "res = es.search(index=\"english\", body=body)\n",
    "res"
   ]
  }
 ],
 "metadata": {
  "kernelspec": {
   "display_name": "Python 3.10.6 ('env': venv)",
   "language": "python",
   "name": "python3"
  },
  "language_info": {
   "codemirror_mode": {
    "name": "ipython",
    "version": 3
   },
   "file_extension": ".py",
   "mimetype": "text/x-python",
   "name": "python",
   "nbconvert_exporter": "python",
   "pygments_lexer": "ipython3",
   "version": "3.10.6"
  },
  "vscode": {
   "interpreter": {
    "hash": "e6d3db9c81b0adc76ea4b18ae0522b4ab00d310ea7b2665e659c38d613b2381d"
   }
  }
 },
 "nbformat": 4,
 "nbformat_minor": 2
}
